{
 "cells": [
  {
   "cell_type": "code",
   "execution_count": null,
   "metadata": {
    "collapsed": true
   },
   "outputs": [],
   "source": [
    "import numpy as np"
   ]
  },
  {
   "cell_type": "markdown",
   "metadata": {},
   "source": [
    "### Statistics\n",
    "\n",
    "Numpy arrays support many common statistical calculations. For a list of common operations, see: https://docs.scipy.org/doc/numpy/reference/routines.statistics.html.\n",
    "\n",
    "The simplest operations consist of calculating a single statistical value from an array of numbers -- such as a mean value, a variance or a minimum.\n",
    "\n",
    "For example:"
   ]
  },
  {
   "cell_type": "code",
   "execution_count": null,
   "metadata": {
    "collapsed": false
   },
   "outputs": [],
   "source": [
    "daily_records = np.array([[12, 14, 11], [11, 12, 15]])\n",
    "a = np.arange(12).reshape((3, 4))\n",
    "mean = np.mean(a)\n",
    "print(a)\n",
    "print(mean)"
   ]
  },
  {
   "cell_type": "markdown",
   "metadata": {},
   "source": [
    "### Exercise 8\n",
    "\n",
    "* What other similar statistical operations exist (see above link) ?\n",
    "* A mean value can also be calculated with `<array>.mean()`.  Is that the same thing ?\n",
    "* produce the two kinds of single-axis average mentioned above -- that is:\n",
    "   1. over all days at each station, \n",
    "   2. over all stations for each day.\n",
    "* Create a sample 3-D array, to represent air temperature at given times, X and Y positions :\n",
    "   1. how can you form a mean over all X and Y at each timestep ?  \n",
    "   1. what shape does such result have ?"
   ]
  },
  {
   "cell_type": "raw",
   "metadata": {},
   "source": [
    "amin\n",
    "amax\n",
    "nanmin\n",
    "nanmax\n",
    "ptp\n",
    "percentile\n",
    "nanpercentile\n",
    "median\n",
    "average\n",
    "mean\n",
    "std\n",
    "var\n",
    "nanmedian\n",
    "nanmean\n",
    "nanstd\n",
    "nanvar\n",
    "corrcoef\n",
    "correlate\n",
    "cov"
   ]
  },
  {
   "cell_type": "code",
   "execution_count": null,
   "metadata": {
    "collapsed": false
   },
   "outputs": [],
   "source": [
    "print(a.mean())"
   ]
  },
  {
   "cell_type": "code",
   "execution_count": null,
   "metadata": {
    "collapsed": false
   },
   "outputs": [],
   "source": [
    "np.mean(daily_records, axis=0)"
   ]
  },
  {
   "cell_type": "code",
   "execution_count": null,
   "metadata": {
    "collapsed": false
   },
   "outputs": [],
   "source": [
    "np.mean(daily_records, axis=1)"
   ]
  },
  {
   "cell_type": "code",
   "execution_count": null,
   "metadata": {
    "collapsed": true
   },
   "outputs": [],
   "source": [
    "air_temp = np.array([[11,12],[21,22],[31,32],[41,42],[51,52]])"
   ]
  },
  {
   "cell_type": "code",
   "execution_count": null,
   "metadata": {
    "collapsed": false
   },
   "outputs": [],
   "source": [
    "air_temp"
   ]
  },
  {
   "cell_type": "code",
   "execution_count": null,
   "metadata": {
    "collapsed": false
   },
   "outputs": [],
   "source": [
    "air_temp.shape"
   ]
  },
  {
   "cell_type": "code",
   "execution_count": null,
   "metadata": {
    "collapsed": false
   },
   "outputs": [],
   "source": [
    "location_mean = np.mean(air_temp, axis=1)\n",
    "print(location_mean)\n",
    "print(location_mean.shape)"
   ]
  }
 ],
 "metadata": {
  "kernelspec": {
   "display_name": "Python 2",
   "language": "python",
   "name": "python2"
  },
  "language_info": {
   "codemirror_mode": {
    "name": "ipython",
    "version": 2
   },
   "file_extension": ".py",
   "mimetype": "text/x-python",
   "name": "python",
   "nbconvert_exporter": "python",
   "pygments_lexer": "ipython2",
   "version": "2.7.12"
  }
 },
 "nbformat": 4,
 "nbformat_minor": 0
}
