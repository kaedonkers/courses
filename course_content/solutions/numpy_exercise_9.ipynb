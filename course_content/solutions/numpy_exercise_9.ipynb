{
 "cells": [
  {
   "cell_type": "code",
   "execution_count": null,
   "metadata": {
    "collapsed": true
   },
   "outputs": [],
   "source": [
    "import numpy as np\n",
    "import numpy.ma as ma"
   ]
  },
  {
   "cell_type": "markdown",
   "metadata": {},
   "source": [
    "### Exercise 9\n",
    "\n",
    "  * Create a masked array from the numbers 0-11, where all the values less than 5 are masked.\n",
    "  * How can you create masked data from an array of positive values where a value of `-1.0` represents 'missing'?\n",
    "  * What special masked array creation routines exist to do this kind of thing more efficiently?\n",
    "    * HINT: look up `np.ma.masked_where` and related routines.\n",
    "  * Use `np.ma.filled()` to create a 'plain' (i.e. unmasked) array from a masked array.\n",
    "  * How can you create a plain array from a masked array, but using a _different_ fill-value for masked points?\n",
    "  * Try performing a mathematical operation between two masked arrays. What happens to the 'fill_value' properties when you do so?"
   ]
  },
  {
   "cell_type": "code",
   "execution_count": null,
   "metadata": {
    "collapsed": false
   },
   "outputs": [],
   "source": [
    "eleven = np.arange(0,12)\n",
    "print(eleven)"
   ]
  },
  {
   "cell_type": "code",
   "execution_count": null,
   "metadata": {
    "collapsed": false
   },
   "outputs": [],
   "source": [
    "mask_eleven = ma.masked_array(eleven, mask=eleven<5)\n",
    "mask_eleven"
   ]
  },
  {
   "cell_type": "code",
   "execution_count": null,
   "metadata": {
    "collapsed": false
   },
   "outputs": [],
   "source": [
    "mask_negative = ma.masked_array(eleven, mask=eleven<1)\n",
    "mask_negative.set_fill_value(-1.0)\n",
    "mask_negative"
   ]
  },
  {
   "cell_type": "code",
   "execution_count": null,
   "metadata": {
    "collapsed": false
   },
   "outputs": [],
   "source": [
    "eleven_where = ma.masked_where(eleven<1, eleven)\n",
    "eleven_where"
   ]
  },
  {
   "cell_type": "code",
   "execution_count": null,
   "metadata": {
    "collapsed": false
   },
   "outputs": [],
   "source": [
    "mask_negative.filled()"
   ]
  },
  {
   "cell_type": "code",
   "execution_count": null,
   "metadata": {
    "collapsed": false
   },
   "outputs": [],
   "source": [
    "eleven_where.filled()"
   ]
  },
  {
   "cell_type": "code",
   "execution_count": null,
   "metadata": {
    "collapsed": false
   },
   "outputs": [],
   "source": [
    "eleven_where.filled(598)"
   ]
  },
  {
   "cell_type": "code",
   "execution_count": null,
   "metadata": {
    "collapsed": false
   },
   "outputs": [],
   "source": [
    "sum_mask = eleven_where + mask_negative\n",
    "sum_mask"
   ]
  },
  {
   "cell_type": "code",
   "execution_count": null,
   "metadata": {
    "collapsed": false
   },
   "outputs": [],
   "source": [
    "mask_80 = ma.masked_array(eleven, mask=eleven<1)\n",
    "mask_80.set_fill_value(80)\n",
    "mask_80"
   ]
  },
  {
   "cell_type": "code",
   "execution_count": null,
   "metadata": {
    "collapsed": false
   },
   "outputs": [],
   "source": [
    "sum_80 = mask_80 + mask_negative\n",
    "sum_80"
   ]
  },
  {
   "cell_type": "code",
   "execution_count": null,
   "metadata": {
    "collapsed": false
   },
   "outputs": [],
   "source": [
    "sum_80_rev = mask_negative + mask_80\n",
    "sum_80_rev"
   ]
  },
  {
   "cell_type": "raw",
   "metadata": {},
   "source": [
    "fill_value takes on the value of the first masked_array in the mathematical operation."
   ]
  }
 ],
 "metadata": {
  "kernelspec": {
   "display_name": "Python 2",
   "language": "python",
   "name": "python2"
  },
  "language_info": {
   "codemirror_mode": {
    "name": "ipython",
    "version": 2
   },
   "file_extension": ".py",
   "mimetype": "text/x-python",
   "name": "python",
   "nbconvert_exporter": "python",
   "pygments_lexer": "ipython2",
   "version": "2.7.12"
  }
 },
 "nbformat": 4,
 "nbformat_minor": 0
}
